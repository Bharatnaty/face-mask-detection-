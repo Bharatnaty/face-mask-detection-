{
 "cells": [
  {
   "cell_type": "code",
   "execution_count": null,
   "metadata": {
    "id": "ix6pOe7h9SIi"
   },
   "outputs": [],
   "source": [
    "from google.colab.patches import cv2_imshow\n",
    "from keras.models import load_model\n",
    "import cv2\n",
    "import matplotlib.pyplot as plt\n",
    "\n",
    "mask_model=load_model(r\"/content/data/mask_detector1.h5\")\n",
    "source=\"/content/FilterCopy Shorts _ How Not To Wear A Mask _ _Manish Kharage _ _Shorts(480P).webm\"        #use 0 in source to use webcam\n",
    "cap=cv2.VideoCapture(source)                 \n",
    "while 1:\n",
    "  ret,img=cap.read()\n",
    "  gray=cv2.cvtColor(img,cv2.COLOR_BGR2GRAY)\n",
    "  face_clsr=cv2.CascadeClassifier('/content/haarcascade_frontalface_default.xml')\n",
    "  faces=face_clsr.detectMultiScale(gray,1.3,5)\n",
    "\n",
    "  label={0:\"WITH MASK\",1:\"WITHOUT MASK\"}\n",
    "  color={0:(0,255,0),1:(0,0,255)}\n",
    "\n",
    "  for x, y, w, h in faces:\n",
    "    face_img = img[y:y + w, x:x + w]\n",
    "    resize = cv2.resize(face_img, (224, 224))\n",
    "    normalize = resize / 255.0\n",
    "    reshape = np.reshape(normalize, (1,224, 224, 3))\n",
    "    result = mask_model.predict(np.array(reshape))\n",
    "\n",
    "    labels = np.argmax(result, axis=1)[0]\n",
    "    cv2.rectangle(img, (x, y), (x + w, y + h), color[labels], 2)\n",
    "    cv2.rectangle(img, (x, y - 40), (x + w, y), color[labels], -1)\n",
    "    cv2.putText(img, label[labels], (x, y - 10), cv2.FONT_HERSHEY_SIMPLEX, 0.8, (0, 0,255), 2)\n",
    "\n",
    "  cv2_imshow(cv2.cvtColor(img,cv2.COLOR_BGR2RGB))\n",
    "cap.release()\n",
    "cv2.destroyAllWindows()\n"
   ]
  }
 ],
 "metadata": {
  "colab": {
   "collapsed_sections": [],
   "name": "mask detection using video.ipynb",
   "provenance": []
  },
  "kernelspec": {
   "display_name": "Python 3",
   "language": "python",
   "name": "python3"
  },
  "language_info": {
   "codemirror_mode": {
    "name": "ipython",
    "version": 3
   },
   "file_extension": ".py",
   "mimetype": "text/x-python",
   "name": "python",
   "nbconvert_exporter": "python",
   "pygments_lexer": "ipython3",
   "version": "3.8.5"
  }
 },
 "nbformat": 4,
 "nbformat_minor": 1
}
